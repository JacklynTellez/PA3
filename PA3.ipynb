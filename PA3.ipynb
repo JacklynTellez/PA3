{
 "cells": [
  {
   "cell_type": "markdown",
   "id": "862b7059",
   "metadata": {},
   "source": [
    "# Assignment 3\n",
    "## Jacklyn Tellez\n",
    "### Version 1\n",
    "### CS 150-01"
   ]
  },
  {
   "cell_type": "code",
   "execution_count": 3,
   "id": "3f823eb6",
   "metadata": {},
   "outputs": [
    {
     "data": {
      "text/plain": [
       "['__doc__',\n",
       " '__loader__',\n",
       " '__name__',\n",
       " '__package__',\n",
       " '__spec__',\n",
       " 'acos',\n",
       " 'acosh',\n",
       " 'asin',\n",
       " 'asinh',\n",
       " 'atan',\n",
       " 'atan2',\n",
       " 'atanh',\n",
       " 'ceil',\n",
       " 'comb',\n",
       " 'copysign',\n",
       " 'cos',\n",
       " 'cosh',\n",
       " 'degrees',\n",
       " 'dist',\n",
       " 'e',\n",
       " 'erf',\n",
       " 'erfc',\n",
       " 'exp',\n",
       " 'expm1',\n",
       " 'fabs',\n",
       " 'factorial',\n",
       " 'floor',\n",
       " 'fmod',\n",
       " 'frexp',\n",
       " 'fsum',\n",
       " 'gamma',\n",
       " 'gcd',\n",
       " 'hypot',\n",
       " 'inf',\n",
       " 'isclose',\n",
       " 'isfinite',\n",
       " 'isinf',\n",
       " 'isnan',\n",
       " 'isqrt',\n",
       " 'ldexp',\n",
       " 'lgamma',\n",
       " 'log',\n",
       " 'log10',\n",
       " 'log1p',\n",
       " 'log2',\n",
       " 'modf',\n",
       " 'nan',\n",
       " 'perm',\n",
       " 'pi',\n",
       " 'pow',\n",
       " 'prod',\n",
       " 'radians',\n",
       " 'remainder',\n",
       " 'sin',\n",
       " 'sinh',\n",
       " 'sqrt',\n",
       " 'tan',\n",
       " 'tanh',\n",
       " 'tau',\n",
       " 'trunc']"
      ]
     },
     "execution_count": 3,
     "metadata": {},
     "output_type": "execute_result"
    }
   ],
   "source": [
    "import math\n",
    "dir(math)"
   ]
  },
  {
   "cell_type": "code",
   "execution_count": 9,
   "id": "51f12e1b",
   "metadata": {},
   "outputs": [],
   "source": [
    "from math import sqrt"
   ]
  },
  {
   "cell_type": "code",
   "execution_count": 15,
   "id": "fb40b229",
   "metadata": {},
   "outputs": [
    {
     "name": "stdout",
     "output_type": "stream",
     "text": [
      "Enter the length of side A: 3\n",
      "Enter the length of side B: 4\n",
      "Enter the length of side C: 5\n",
      "The area of the triangle is approximately 6.0 square units.\n",
      "The perimeter of a triangle is 12 linear units.\n"
     ]
    }
   ],
   "source": [
    "A=int(input(\"Enter the length of side A: \"))\n",
    "B=int(input(\"Enter the length of side B: \"))\n",
    "C=int(input(\"Enter the length of side C: \"))\n",
    "s=(A+B+C)/2\n",
    "def calcArea(A,B,C):\n",
    "    area=sqrt(s*(s-A)*(s-B)*(s-C))\n",
    "    return area  \n",
    "def calcPerimeter(A,B,C):\n",
    "    perimeter=A+B+C\n",
    "    return perimeter\n",
    "\n",
    "print(\"The area of the triangle is approximately\", calcArea(A,B,C), \"square units.\")\n",
    "print(\"The perimeter of a triangle is\", calcPerimeter(A,B,C), \"linear units.\")"
   ]
  },
  {
   "cell_type": "code",
   "execution_count": 18,
   "id": "84fe459f",
   "metadata": {},
   "outputs": [
    {
     "name": "stdout",
     "output_type": "stream",
     "text": [
      "Enter your guess: 700\n",
      "Too low! Guess again\n",
      "Enter your guess: 900\n",
      "Too high! Guess again\n",
      "Enter your guess: 800\n",
      "Too low! Guess again\n",
      "Enter your guess: 850\n",
      "Too low! Guess again\n",
      "Enter your guess: 890\n",
      "Too high! Guess again\n",
      "Enter your guess: 877\n",
      "Too high! Guess again\n",
      "Enter your guess: 860\n",
      "Too low! Guess again\n",
      "Enter your guess: 870\n",
      "Too high! Guess again\n",
      "Enter your guess: 865\n",
      "Too low! Guess again\n",
      "Enter your guess: 867\n",
      "Too low! Guess again\n",
      "Enter your guess: 869\n",
      "Too high! Guess again\n",
      "Enter your guess: 868\n",
      "Correct\n"
     ]
    }
   ],
   "source": [
    "import random\n",
    "number=random.randint(1,1000)\n",
    "guess_number=None\n",
    "time=0\n",
    "guess_number=int(input(\"Enter your guess: \"))\n",
    "while guess_number!=number:\n",
    "    if guess_number>number:\n",
    "        print (\"Too high! Guess again\") \n",
    "    elif guess_number<number:\n",
    "        print (\"Too low! Guess again\") \n",
    "    guess_number=int(input(\"Enter your guess: \"))\n",
    "print(\"Correct\")\n",
    "   "
   ]
  },
  {
   "cell_type": "code",
   "execution_count": 25,
   "id": "8adddfc8",
   "metadata": {},
   "outputs": [],
   "source": [
    "def meanTemp(*a):\n",
    "    return sum(a)/len(a)"
   ]
  },
  {
   "cell_type": "code",
   "execution_count": 26,
   "id": "9cb3abf5",
   "metadata": {},
   "outputs": [],
   "source": [
    "len?"
   ]
  },
  {
   "cell_type": "code",
   "execution_count": 27,
   "id": "dfc263d3",
   "metadata": {},
   "outputs": [
    {
     "name": "stdout",
     "output_type": "stream",
     "text": [
      "The mean temperature for the past 7 days is 24.857142857142858 degrees F\n",
      "The mean temperature for the past 4 days is 25.0 degrees F\n",
      "The mean temperature for the past 2 days is 33.0 degrees F\n"
     ]
    }
   ],
   "source": [
    "meanTemp(5,29,32,34)\n",
    "meanTemp(30,32,12,5,29,32,34)\n",
    "meanTemp(32,34)\n",
    "\n",
    "print(f\"The mean temperature for the past 7 days is {meanTemp(30,32,12,5,29,32,34)} degrees F\")\n",
    "print(f\"The mean temperature for the past 4 days is {meanTemp(5,29,32,34)} degrees F\")\n",
    "print(f\"The mean temperature for the past 2 days is {meanTemp(32,34)} degrees F\")"
   ]
  },
  {
   "cell_type": "code",
   "execution_count": null,
   "id": "a5894e1c",
   "metadata": {},
   "outputs": [],
   "source": []
  }
 ],
 "metadata": {
  "kernelspec": {
   "display_name": "Python 3",
   "language": "python",
   "name": "python3"
  },
  "language_info": {
   "codemirror_mode": {
    "name": "ipython",
    "version": 3
   },
   "file_extension": ".py",
   "mimetype": "text/x-python",
   "name": "python",
   "nbconvert_exporter": "python",
   "pygments_lexer": "ipython3",
   "version": "3.8.8"
  }
 },
 "nbformat": 4,
 "nbformat_minor": 5
}
