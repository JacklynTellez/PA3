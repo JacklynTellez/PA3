{
 "cells": [
  {
   "cell_type": "markdown",
   "id": "3635bd59-1983-4d8a-9761-8ba6c7068e97",
   "metadata": {},
   "source": [
    "# German Power Company\n",
    "## Jacklyn Tellez\n",
    "## Indiviual Project 3\n",
    "### Version 1.0\n",
    "### Spring 2022"
   ]
  },
  {
   "cell_type": "code",
   "execution_count": 1,
   "id": "4e42571e-7a3c-4054-a046-39cc51cd7f76",
   "metadata": {},
   "outputs": [],
   "source": [
    "import pandas as pd\n",
    "import numpy as np\n",
    "import matplotlib.pyplot as plt\n",
    "import seaborn as sns"
   ]
  },
  {
   "cell_type": "code",
   "execution_count": null,
   "id": "8c2718d6-27aa-4fd3-b409-536ed9fe823c",
   "metadata": {},
   "outputs": [],
   "source": []
  }
 ],
 "metadata": {
  "kernelspec": {
   "display_name": "Python 3",
   "language": "python",
   "name": "python3"
  },
  "language_info": {
   "codemirror_mode": {
    "name": "ipython",
    "version": 3
   },
   "file_extension": ".py",
   "mimetype": "text/x-python",
   "name": "python",
   "nbconvert_exporter": "python",
   "pygments_lexer": "ipython3",
   "version": "3.8.8"
  }
 },
 "nbformat": 4,
 "nbformat_minor": 5
}
